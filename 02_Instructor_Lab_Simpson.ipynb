{
 "cells": [
  {
   "cell_type": "markdown",
   "id": "136947c4-e057-4395-b873-a989c9008307",
   "metadata": {
    "slideshow": {
     "slide_type": ""
    },
    "tags": []
   },
   "source": [
    "UM MSBA - BGEN 632\n",
    "\n",
    "# Week 2 Instructor-led Lab\n",
    "\n",
    "In this assignment you will create basic code showcasing the concepts you learned about in the tutorial. \n",
    "\n",
    "**Create Code cells below this Markdown cell to complete the assignment. Write and run your code. To get full points, your submitted notebook must include saved output in addition to written code.** \n",
    "\n",
    "For this assignment, you are not required to create any Markdown cells but you are encouraged to do so to improve the aesthetics and organization of your lab submission. \n",
    "\n",
    "As stated in the syllabus, you <ins>must</ins> include information about your use of online resources to complete assignments, including chatbots like ChatGPT. You can include reference information within your notebooks and/or within separate files pushed to your repo on GitHub. Failure to disclose the use of online resources is a violation of course policy.\n",
    "\n",
    "## Assigning Values\n",
    "\n",
    "For this portion of the assignment, you will create variables in your notebook. You will assign a value to each variable. Please perform the following tasks and create each variable by assigning the following values:\n",
    "\n",
    "* my_int assign it a number between 1 and 20, inclusive.\n",
    "* long_a assign it the number 6,323,527,192.\n",
    "* float_pi assign it the number 3.14159\n",
    "* my_double assign it a fractional number with 13 decimals.\n",
    "* decimal_a assign it a fractional number with 20 decimals.\n",
    "* big_griz assign it the value G (uppercase).\n",
    "* my_hello assign it a greeting to the entire class.\n",
    "* my_goodbye assign it a farewell to your class.\n",
    "\n",
    "## Single Line Comments\n",
    "\n",
    "At the end of each variable, on the same line, place a single-line comment with a short description of each variable. For example, it would look like this:\n",
    "\n",
    "```\n",
    "new_double = 38.936921934     # A double with 9 decimal places\n",
    "```\n",
    "\n",
    "## Print Output\n",
    "\n",
    "Now that you have assigned values to your variables, let's print them. Output each variable individually.\n",
    "\n",
    "## Type Conversion\n",
    "\n",
    "The last task you have for this lab involves type conversion. Create new variables with the following types, names, and values. Use an explicit type conversion.\n",
    "\n",
    "* `int` named my_new_int with a number between 1 and 20, inclusive.\n",
    "* `float` named float_b with value 3.14159.\n",
    "  \n",
    "Output both variables. \n",
    "\n",
    "---"
   ]
  },
  {
   "cell_type": "code",
   "execution_count": 26,
   "id": "8e61641a",
   "metadata": {},
   "outputs": [],
   "source": [
    "my_int = int(5) #A random number between 1 and 20"
   ]
  },
  {
   "cell_type": "code",
   "execution_count": 29,
   "id": "30720be2",
   "metadata": {},
   "outputs": [
    {
     "name": "stdout",
     "output_type": "stream",
     "text": [
      "5\n"
     ]
    }
   ],
   "source": [
    "print(my_int)"
   ]
  },
  {
   "cell_type": "code",
   "execution_count": 34,
   "id": "6e112a9c",
   "metadata": {},
   "outputs": [],
   "source": [
    "long_a = int(6323527192) #A long whole number with 10 digits"
   ]
  },
  {
   "cell_type": "code",
   "execution_count": 35,
   "id": "29d26b38",
   "metadata": {},
   "outputs": [
    {
     "name": "stdout",
     "output_type": "stream",
     "text": [
      "6323527192\n"
     ]
    }
   ],
   "source": [
    "print(long_a)"
   ]
  },
  {
   "cell_type": "code",
   "execution_count": 36,
   "id": "23872365",
   "metadata": {},
   "outputs": [],
   "source": [
    "float_pi = 3.14159 #Value of PI with 5 decimal places"
   ]
  },
  {
   "cell_type": "code",
   "execution_count": 37,
   "id": "1aff07da",
   "metadata": {},
   "outputs": [
    {
     "name": "stdout",
     "output_type": "stream",
     "text": [
      "3.14159\n"
     ]
    }
   ],
   "source": [
    "print(float_pi)"
   ]
  },
  {
   "cell_type": "code",
   "execution_count": 42,
   "id": "ffe57f17",
   "metadata": {},
   "outputs": [],
   "source": [
    "my_double = 3.19493950715 #A double with 13 decimal places"
   ]
  },
  {
   "cell_type": "code",
   "execution_count": 43,
   "id": "32ebee34",
   "metadata": {},
   "outputs": [
    {
     "name": "stdout",
     "output_type": "stream",
     "text": [
      "3.19493950715\n"
     ]
    }
   ],
   "source": [
    "print(my_double)"
   ]
  },
  {
   "cell_type": "code",
   "execution_count": 44,
   "id": "6e35d1ff",
   "metadata": {},
   "outputs": [],
   "source": [
    "decimal_a = 3.49305720594837195049 #A double with 20 decimal places"
   ]
  },
  {
   "cell_type": "code",
   "execution_count": 47,
   "id": "034ba4c3",
   "metadata": {},
   "outputs": [
    {
     "name": "stdout",
     "output_type": "stream",
     "text": [
      "3.493057205948372\n"
     ]
    }
   ],
   "source": [
    "print(decimal_a)"
   ]
  },
  {
   "cell_type": "code",
   "execution_count": 49,
   "id": "c41b909c",
   "metadata": {},
   "outputs": [],
   "source": [
    "big_griz = \"G\" #The letter G"
   ]
  },
  {
   "cell_type": "code",
   "execution_count": 51,
   "id": "3c89a8ee",
   "metadata": {},
   "outputs": [
    {
     "name": "stdout",
     "output_type": "stream",
     "text": [
      "G\n"
     ]
    }
   ],
   "source": [
    "print(big_griz)"
   ]
  },
  {
   "cell_type": "code",
   "execution_count": 54,
   "id": "3937c1b6",
   "metadata": {},
   "outputs": [],
   "source": [
    "my_hello = \"Hello World!\" #My greeting to the class"
   ]
  },
  {
   "cell_type": "code",
   "execution_count": 55,
   "id": "7b4de58c",
   "metadata": {},
   "outputs": [
    {
     "name": "stdout",
     "output_type": "stream",
     "text": [
      "Hello World!\n"
     ]
    }
   ],
   "source": [
    "print(my_hello)"
   ]
  },
  {
   "cell_type": "code",
   "execution_count": 56,
   "id": "3f529b66",
   "metadata": {},
   "outputs": [],
   "source": [
    "my_goodbye = \"Goodbye World!\" #My farewell to the class"
   ]
  },
  {
   "cell_type": "code",
   "execution_count": 57,
   "id": "27d220c3",
   "metadata": {},
   "outputs": [
    {
     "name": "stdout",
     "output_type": "stream",
     "text": [
      "Goodbye World!\n"
     ]
    }
   ],
   "source": [
    "print(my_goodbye)"
   ]
  },
  {
   "cell_type": "code",
   "execution_count": 58,
   "id": "fdf8cd43",
   "metadata": {},
   "outputs": [],
   "source": [
    "my_new_int = int(9)"
   ]
  },
  {
   "cell_type": "code",
   "execution_count": 59,
   "id": "9cae1d2c",
   "metadata": {},
   "outputs": [
    {
     "name": "stdout",
     "output_type": "stream",
     "text": [
      "9\n"
     ]
    }
   ],
   "source": [
    "print(my_new_int)"
   ]
  },
  {
   "cell_type": "code",
   "execution_count": 60,
   "id": "f0366cdd",
   "metadata": {},
   "outputs": [],
   "source": [
    "float_b = float(3.14159)"
   ]
  },
  {
   "cell_type": "code",
   "execution_count": 61,
   "id": "8d584d5d",
   "metadata": {},
   "outputs": [
    {
     "name": "stdout",
     "output_type": "stream",
     "text": [
      "3.14159\n"
     ]
    }
   ],
   "source": [
    "print(float_b)"
   ]
  }
 ],
 "metadata": {
  "kernelspec": {
   "display_name": "Python 3 (ipykernel)",
   "language": "python",
   "name": "python3"
  },
  "language_info": {
   "codemirror_mode": {
    "name": "ipython",
    "version": 3
   },
   "file_extension": ".py",
   "mimetype": "text/x-python",
   "name": "python",
   "nbconvert_exporter": "python",
   "pygments_lexer": "ipython3",
   "version": "3.12.3"
  }
 },
 "nbformat": 4,
 "nbformat_minor": 5
}
