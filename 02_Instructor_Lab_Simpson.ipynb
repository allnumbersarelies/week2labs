{
  "metadata": {
    "kernelspec": {
      "name": "python",
      "display_name": "Python (Pyodide)",
      "language": "python"
    },
    "language_info": {
      "codemirror_mode": {
        "name": "python",
        "version": 3
      },
      "file_extension": ".py",
      "mimetype": "text/x-python",
      "name": "python",
      "nbconvert_exporter": "python",
      "pygments_lexer": "ipython3",
      "version": "3.8"
    }
  },
  "nbformat_minor": 5,
  "nbformat": 4,
  "cells": [
    {
      "id": "136947c4-e057-4395-b873-a989c9008307",
      "cell_type": "markdown",
      "source": "UM MSBA - BGEN 632\n\n# Week 2 Instructor-led Lab\n\nIn this assignment you will create basic code showcasing the concepts you learned about in the tutorial. \n\n**Create Code cells below this Markdown cell to complete the assignment. Write and run your code. To get full points, your submitted notebook must include saved output in addition to written code.** \n\nFor this assignment, you are not required to create any Markdown cells but you are encouraged to do so to improve the aesthetics and organization of your lab submission. \n\nAs stated in the syllabus, you <ins>must</ins> include information about your use of online resources to complete assignments, including chatbots like ChatGPT. You can include reference information within your notebooks and/or within separate files pushed to your repo on GitHub. Failure to disclose the use of online resources is a violation of course policy.\n\n## Assigning Values\n\nFor this portion of the assignment, you will create variables in your notebook. You will assign a value to each variable. Please perform the following tasks and create each variable by assigning the following values:\n\n* my_int assign it a number between 1 and 20, inclusive.\n* long_a assign it the number 6,323,527,192.\n* float_pi assign it the number 3.14159\n* my_double assign it a fractional number with 13 decimals.\n* decimal_a assign it a fractional number with 20 decimals.\n* big_griz assign it the value G (uppercase).\n* my_hello assign it a greeting to the entire class.\n* my_goodbye assign it a farewell to your class.\n\n## Single Line Comments\n\nAt the end of each variable, on the same line, place a single-line comment with a short description of each variable. For example, it would look like this:\n\n```\nnew_double = 38.936921934     # A double with 9 decimal places\n```\n\n## Print Output\n\nNow that you have assigned values to your variables, let's print them. Output each variable individually.\n\n## Type Conversion\n\nThe last task you have for this lab involves type conversion. Create new variables with the following types, names, and values. Use an explicit type conversion.\n\n* `int` named my_new_int with a number between 1 and 20, inclusive.\n* `float` named float_b with value 3.14159.\n  \nOutput both variables. \n\n---",
      "metadata": {
        "editable": true,
        "slideshow": {
          "slide_type": ""
        },
        "tags": []
      }
    },
    {
      "id": "d66e4214-94a0-47c8-8db0-6d044515b322",
      "cell_type": "code",
      "source": "my_int = 9 #A single whole number between 1 and 20 inclusive",
      "metadata": {
        "trusted": true
      },
      "outputs": [],
      "execution_count": 1
    },
    {
      "id": "765cacc6-3044-440a-a43e-928529c9c285",
      "cell_type": "code",
      "source": "long_a = 6323527192 #A 10 digit long whole number",
      "metadata": {
        "trusted": true
      },
      "outputs": [],
      "execution_count": 3
    },
    {
      "id": "678fd5ad-a1b8-47f2-b503-529a56e1cdc1",
      "cell_type": "code",
      "source": "float_pi = 3.14159 #The numerical value of pi with 5 decimals",
      "metadata": {
        "trusted": true
      },
      "outputs": [],
      "execution_count": 5
    },
    {
      "id": "e7f5bbae-f925-4db6-a340-e59c662015e3",
      "cell_type": "code",
      "source": "my_double = 3.9586412739826 #A fractional number with 13 decimals",
      "metadata": {
        "trusted": true
      },
      "outputs": [],
      "execution_count": 7
    },
    {
      "id": "729fcc21-c5f6-4370-921f-7c00042d13ae",
      "cell_type": "code",
      "source": "decimal_a = 2.15873649823651987356 #A fractional number with 20 decimals",
      "metadata": {
        "trusted": true
      },
      "outputs": [],
      "execution_count": 9
    },
    {
      "id": "89e9aabc-ede8-4b9d-912d-de7f2eadca12",
      "cell_type": "code",
      "source": "big_griz = \"G\" #Upper case g",
      "metadata": {
        "trusted": true
      },
      "outputs": [],
      "execution_count": 14
    },
    {
      "id": "aa327b04-ee82-4d57-94d1-c0001ba8b230",
      "cell_type": "code",
      "source": "my_hello = \"Hello Class!\"",
      "metadata": {
        "trusted": true
      },
      "outputs": [],
      "execution_count": 18
    },
    {
      "id": "280e5e49-0d39-438b-8793-b8d6cdb94cbe",
      "cell_type": "code",
      "source": "my_goodbye = \"Goodbye Class!\"",
      "metadata": {
        "trusted": true
      },
      "outputs": [],
      "execution_count": 20
    },
    {
      "id": "15a42c2a-6222-4008-b27c-c1f6897a638c",
      "cell_type": "code",
      "source": "#Now let's print out all of the values",
      "metadata": {
        "trusted": true
      },
      "outputs": [],
      "execution_count": 22
    },
    {
      "id": "ad0935d7-289e-44df-a815-0ed049e59eb7",
      "cell_type": "code",
      "source": "print(my_int)",
      "metadata": {
        "trusted": true
      },
      "outputs": [
        {
          "name": "stdout",
          "output_type": "stream",
          "text": "9\n"
        }
      ],
      "execution_count": 24
    },
    {
      "id": "444501cd-c37b-4eb3-8ec7-250e074c9e99",
      "cell_type": "code",
      "source": "print(long_a)",
      "metadata": {
        "trusted": true
      },
      "outputs": [
        {
          "name": "stdout",
          "output_type": "stream",
          "text": "6323527192\n"
        }
      ],
      "execution_count": 25
    },
    {
      "id": "c61c4eaa-5c92-4bd1-87ea-77357982e4cd",
      "cell_type": "code",
      "source": "print(float_pi)",
      "metadata": {
        "trusted": true
      },
      "outputs": [
        {
          "name": "stdout",
          "output_type": "stream",
          "text": "3.14159\n"
        }
      ],
      "execution_count": 26
    },
    {
      "id": "1dd6b37c-7418-4747-ab57-c83ed1e8de0d",
      "cell_type": "code",
      "source": "print(my_double)",
      "metadata": {
        "trusted": true
      },
      "outputs": [
        {
          "name": "stdout",
          "output_type": "stream",
          "text": "3.9586412739826\n"
        }
      ],
      "execution_count": 27
    },
    {
      "id": "9118d844-67f2-4417-a6c5-852f2bde1516",
      "cell_type": "code",
      "source": "print(decimal_a)",
      "metadata": {
        "trusted": true
      },
      "outputs": [
        {
          "name": "stdout",
          "output_type": "stream",
          "text": "2.15873649823652\n"
        }
      ],
      "execution_count": 28
    },
    {
      "id": "9d5b398e-fc1d-4527-8861-6c05703ab3c3",
      "cell_type": "code",
      "source": "print(big_griz)",
      "metadata": {
        "trusted": true
      },
      "outputs": [
        {
          "name": "stdout",
          "output_type": "stream",
          "text": "G\n"
        }
      ],
      "execution_count": 30
    },
    {
      "id": "c26645e6-1277-4211-a0ff-9afc2128a575",
      "cell_type": "code",
      "source": "print(my_hello)",
      "metadata": {
        "trusted": true
      },
      "outputs": [
        {
          "name": "stdout",
          "output_type": "stream",
          "text": "Hello Class!\n"
        }
      ],
      "execution_count": 31
    },
    {
      "id": "481fda13-d158-4a6a-b093-11e9bc134c07",
      "cell_type": "code",
      "source": "print(my_goodbye)",
      "metadata": {
        "trusted": true
      },
      "outputs": [
        {
          "name": "stdout",
          "output_type": "stream",
          "text": "Goodbye Class!\n"
        }
      ],
      "execution_count": 32
    },
    {
      "id": "72263880-201a-4a17-ae99-2659861b461f",
      "cell_type": "code",
      "source": "#Now let's do some explicit conversions",
      "metadata": {
        "trusted": true
      },
      "outputs": [],
      "execution_count": 33
    },
    {
      "id": "9f2b6935-0445-448b-8232-48c04e587c2b",
      "cell_type": "code",
      "source": "my_new_int = int(14) #A number between 1 and 20 with explicit conversion",
      "metadata": {
        "trusted": true
      },
      "outputs": [],
      "execution_count": 36
    },
    {
      "id": "493496e2-d2f7-4d9e-bd7a-dcb9bea23452",
      "cell_type": "code",
      "source": "float_b = float(3.14159) #The value of pi with 5 decimals with explicit conversion",
      "metadata": {
        "trusted": true
      },
      "outputs": [],
      "execution_count": 35
    },
    {
      "id": "60131609-7a8b-4e1a-8ec7-ad7924eb8120",
      "cell_type": "code",
      "source": "print(my_new_int, \",\", float_b)",
      "metadata": {
        "trusted": true
      },
      "outputs": [
        {
          "name": "stdout",
          "output_type": "stream",
          "text": "14 , 3.14159\n"
        }
      ],
      "execution_count": 38
    }
  ]
}